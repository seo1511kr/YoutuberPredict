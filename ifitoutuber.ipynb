{
 "cells": [
  {
   "cell_type": "markdown",
   "metadata": {},
   "source": [
    "\n",
    "vlog=['노잼봇','이유안','김인호','박병창']ESFP INFJ\n",
    "\n",
    "comedy=['개그맨','동네놈들','보물섬','윽박','철구','김기훈','와꾸대장장봉준']ENTP ESFP\n",
    "\n",
    "game=['페이커','괴물쥐','개리형','bj김성태','테스터훈','대도서관','이영호']INFP\n",
    "\n",
    "food=['홍사운드','참피디','엠브로','떵개떵','밥굽남','이공삼','바다곰조해웅']INFJ\n",
    "\n",
    "tech=['잇섭','1분과학','공돌이용달','조코딩','유튜버 MR'], INTJ INTP\n",
    "\n",
    "fashion=['짱구대디','최겨울','핏더사이즈','깡스타일리스트']ENFP ESFP ESTP\n",
    "\n",
    "sports=['말왕','운지기TV','까로','핏블리',빡빡이아저씨','이근']ENFJ\n",
    "\n",
    "economy=['슈카','김용호기자','유튜버 김동환','유튜버 신사임당']ESTJ INTP"
   ]
  },
  {
   "cell_type": "code",
   "execution_count": 1,
   "metadata": {},
   "outputs": [],
   "source": [
    "from selenium import webdriver\n",
    "from bs4 import BeautifulSoup\n",
    "import urllib.request\n",
    "from selenium.webdriver.chrome.options import Options# 한국어 설정\n",
    "from selenium.webdriver.common.keys import Keys#엔터키\n",
    "import time"
   ]
  },
  {
   "cell_type": "code",
   "execution_count": 2,
   "metadata": {},
   "outputs": [
    {
     "name": "stderr",
     "output_type": "stream",
     "text": [
      "<ipython-input-2-82990fe1f604>:3: DeprecationWarning: use options instead of chrome_options\n",
      "  driver=webdriver.Chrome(\"c:/scrap/chromedriver.exe\",chrome_options=chrome_options)\n"
     ]
    }
   ],
   "source": [
    "chrome_options=webdriver.ChromeOptions()\n",
    "chrome_options.add_argument('lang=ko_KR')\n",
    "driver=webdriver.Chrome(\"c:/scrap/chromedriver.exe\",chrome_options=chrome_options)"
   ]
  },
  {
   "cell_type": "code",
   "execution_count": 3,
   "metadata": {},
   "outputs": [],
   "source": [
    "driver.get('https://www.google.co.kr/imghp?hl=ko&tab=ri&ogbl')\n",
    "html=driver.page_source\n",
    "soup=BeautifulSoup(html,'html.parser')\n",
    "\n"
   ]
  },
  {
   "cell_type": "code",
   "execution_count": 13,
   "metadata": {},
   "outputs": [],
   "source": [
    "elem=driver.find_element_by_css_selector(\"#sbtc > div > div.a4bIc > input\")\n",
    "elem.send_keys('킹기훈')\n",
    "elem.send_keys(Keys.RETURN)\n",
    "\n",
    "SCROLL_PAUSE_TIME = 2\n",
    "\n",
    "# # Get scroll height\n",
    "# last_height = driver.execute_script(\"return document.body.scrollHeight\")\n",
    "\n",
    "# while True:\n",
    "#     # Scroll down to bottom\n",
    "#     driver.execute_script(\"window.scrollTo(0, document.body.scrollHeight);\")\n",
    "\n",
    "#     # Wait to load page\n",
    "#     time.sleep(SCROLL_PAUSE_TIME)\n",
    "\n",
    "#     # Calculate new scroll height and compare with last scroll height\n",
    "#     new_height = driver.execute_script(\"return document.body.scrollHeight\")\n",
    "#     if new_height == last_height:\n",
    "#         break\n",
    "#     last_height = new_height\n"
   ]
  },
  {
   "cell_type": "code",
   "execution_count": 14,
   "metadata": {},
   "outputs": [],
   "source": [
    "small_images=driver.find_elements_by_css_selector('.rg_i.Q4LuWd')\n",
    "small_images[0].click()"
   ]
  },
  {
   "cell_type": "code",
   "execution_count": 15,
   "metadata": {},
   "outputs": [
    {
     "name": "stdout",
     "output_type": "stream",
     "text": [
      "48\n"
     ]
    }
   ],
   "source": [
    "print(len(small_images))"
   ]
  },
  {
   "cell_type": "code",
   "execution_count": 6,
   "metadata": {},
   "outputs": [
    {
     "name": "stdout",
     "output_type": "stream",
     "text": [
      "https://blog.kakaocdn.net/dn/dKFp6F/btqwXeAhwyo/hjmvHsKDLy08tTNNVNGZa1/img.jpg\n"
     ]
    }
   ],
   "source": [
    "src=driver.find_element_by_css_selector(\".n3VNCb\").get_attribute('src')\n",
    "time.sleep(3)\n",
    "print(src)"
   ]
  },
  {
   "cell_type": "code",
   "execution_count": 10,
   "metadata": {},
   "outputs": [
    {
     "data": {
      "text/plain": [
       "('photo/comedy/김기훈/1.jpg', <http.client.HTTPMessage at 0x1f7cf7b60a0>)"
      ]
     },
     "execution_count": 10,
     "metadata": {},
     "output_type": "execute_result"
    }
   ],
   "source": [
    "cnt=1\n",
    "urllib.request.urlretrieve(src,'photo/'+'comedy'+\"/\"+'김기훈'+'/'+\"%d\"%cnt+'.jpg')\n"
   ]
  },
  {
   "cell_type": "code",
   "execution_count": null,
   "metadata": {},
   "outputs": [],
   "source": []
  },
  {
   "cell_type": "markdown",
   "metadata": {},
   "source": []
  },
  {
   "cell_type": "code",
   "execution_count": 6,
   "metadata": {},
   "outputs": [],
   "source": [
    "def get_images(word,category):\n",
    "    driver.get('https://www.google.co.kr/imghp?hl=ko&tab=ri&ogbl')\n",
    "    html=driver.page_source\n",
    "    soup=BeautifulSoup(html,'html.parser')\n",
    "    \n",
    "    #input the words\n",
    "    elem=driver.find_element_by_css_selector(\"#sbtc > div > div.a4bIc > input\")\n",
    "    elem.send_keys(word)\n",
    "    elem.send_keys(Keys.RETURN)\n",
    "    \n",
    "    #scroll down until endline\n",
    "    SCROLL_PAUSE_TIME = 2\n",
    "\n",
    "    # Get scroll height\n",
    "    last_height = driver.execute_script(\"return document.body.scrollHeight\")\n",
    "    \n",
    "    how=1\n",
    "    while how<2:\n",
    "        # Scroll down to bottom\n",
    "        driver.execute_script(\"window.scrollTo(0, document.body.scrollHeight);\")\n",
    "\n",
    "        # Wait to load page\n",
    "        time.sleep(SCROLL_PAUSE_TIME)\n",
    "        how+=1\n",
    "        # Calculate new scroll height and compare with last scroll height\n",
    "        new_height = driver.execute_script(\"return document.body.scrollHeight\")\n",
    "        if new_height == last_height:\n",
    "            break\n",
    "        last_height = new_height\n",
    "        \n",
    "    #get_full_source    \n",
    "    small_images=driver.find_elements_by_css_selector('.rg_i.Q4LuWd')\n",
    "    print(len(small_images))\n",
    "    cnt=1\n",
    "    for small_image in small_images:\n",
    "        try:\n",
    "            small_image.click()\n",
    "            src=driver.find_element_by_css_selector(\"#Sva75c > div > div > div.pxAole > div.tvh9oe.BIB1wf > c-wiz > div > div.OUZ5W > div.zjoqD > div > div.v4dQwb > a > img\").get_attribute('src')\n",
    "            time.sleep(3)\n",
    "            urllib.request.urlretrieve(src,'photo/'+category+\"/\"+word+'/'+\"%d\"%cnt+'.jpg')\n",
    "            cnt+=1\n",
    "        except:pass"
   ]
  },
  {
   "cell_type": "code",
   "execution_count": null,
   "metadata": {},
   "outputs": [
    {
     "name": "stdout",
     "output_type": "stream",
     "text": [
      "200\n"
     ]
    }
   ],
   "source": [
    "get_images('킹기훈','comedy')"
   ]
  },
  {
   "cell_type": "markdown",
   "metadata": {},
   "source": [
    "폴더생성\n",
    "\n",
    "import os\n",
    "\n",
    "\n",
    "def createFolder(directory):\n",
    "    try:\n",
    "        if not os.path.exists(directory):\n",
    "            os.makedirs(directory)\n",
    "    except OSError:\n",
    "        print('Error: Creating directory. ' + directory)\n",
    "\n",
    "\n",
    "createFolder('C:/Users/19178/TIL/jupyter/test')\n",
    "\n",
    "os.makedirs('C:/Users/19178/TIL/jupyter/test')"
   ]
  },
  {
   "cell_type": "code",
   "execution_count": 4,
   "metadata": {},
   "outputs": [],
   "source": [
    "categories=dict(vlog=['한예슬','오연서','김희철','주지훈'],\n",
    "comedy=['빈지노','옹성우','유세윤','조혜련'],\n",
    "game=['티아라 은정','유재석','기안84','하하'],\n",
    "food=['이영자','강소라','백종원','유민상'],\n",
    "tech=['홍종현','공유','김우빈','송지효'],\n",
    "fashion=['손호준','이진욱','나나','조인성'],\n",
    "sports=['최시원','제이홉','준케이','장도연'],\n",
    "economy=['김고은','헨리','문희경','최우식'])\n",
    "categories_keys=list(categories.keys())"
   ]
  },
  {
   "cell_type": "code",
   "execution_count": 5,
   "metadata": {},
   "outputs": [],
   "source": [
    "#폴더생성\n",
    "\n",
    "import os\n",
    "\n",
    "for category in categories_keys:\n",
    "    for word in categories[category]:\n",
    "        os.makedirs('C:/Users/19178/TIL/jupyter/photo/'+category+'/'+word)\n"
   ]
  },
  {
   "cell_type": "code",
   "execution_count": 6,
   "metadata": {},
   "outputs": [],
   "source": [
    "\n",
    "\n",
    "\n",
    "#['vlog', 'comedy', 'game', 'food', 'tech', 'fashion', 'sports', 'economy']\n",
    "categories_keys=list(categories.keys())\n",
    "for category in categories_keys:\n",
    "    for word in categories[category]:\n",
    "        \n",
    "        driver.get('https://www.google.co.kr/imghp?hl=ko&tab=ri&ogbl')\n",
    "        html=driver.page_source\n",
    "        soup=BeautifulSoup(html,'html.parser')\n",
    "\n",
    "        #input the words\n",
    "        elem=driver.find_element_by_css_selector(\"#sbtc > div > div.a4bIc > input\")\n",
    "        elem.send_keys(word)\n",
    "        elem.send_keys(Keys.RETURN)\n",
    "\n",
    "        #scroll down until endline\n",
    "        SCROLL_PAUSE_TIME = 2\n",
    "\n",
    "        # Get scroll height\n",
    "        last_height = driver.execute_script(\"return document.body.scrollHeight\")\n",
    "\n",
    "        how=1\n",
    "        while how<2:\n",
    "            # Scroll down to bottom\n",
    "            driver.execute_script(\"window.scrollTo(0, document.body.scrollHeight);\")\n",
    "\n",
    "            # Wait to load page\n",
    "            time.sleep(SCROLL_PAUSE_TIME)\n",
    "            how+=1\n",
    "            # Calculate new scroll height and compare with last scroll height\n",
    "            new_height = driver.execute_script(\"return document.body.scrollHeight\")\n",
    "            if new_height == last_height:\n",
    "                break\n",
    "            last_height = new_height\n",
    "\n",
    "        #get_full_source    \n",
    "        small_images=driver.find_elements_by_css_selector('.rg_i.Q4LuWd')\n",
    "        cnt=1\n",
    "        for small_image in small_images[:50]:\n",
    "            try:\n",
    "                small_image.click()\n",
    "                src=driver.find_element_by_css_selector(\"#Sva75c > div > div > div.pxAole > div.tvh9oe.BIB1wf > c-wiz > div > div.OUZ5W > div.zjoqD > div > div.v4dQwb > a > img\").get_attribute('src')\n",
    "                time.sleep(3)\n",
    "                urllib.request.urlretrieve(src,'photo/'+category+\"/\"+word+'/'+\"%d\"%cnt+'.jpg')\n",
    "                cnt+=1\n",
    "            except:pass\n"
   ]
  },
  {
   "cell_type": "markdown",
   "metadata": {},
   "source": [
    "스크롤다운\n",
    "SCROLL_PAUSE_TIME = 0.5\n",
    "\n",
    "# Get scroll height\n",
    "last_height = driver.execute_script(\"return document.body.scrollHeight\")\n",
    "\n",
    "while True:\n",
    "    # Scroll down to bottom\n",
    "    driver.execute_script(\"window.scrollTo(0, document.body.scrollHeight);\")\n",
    "\n",
    "    # Wait to load page\n",
    "    time.sleep(SCROLL_PAUSE_TIME)\n",
    "\n",
    "    # Calculate new scroll height and compare with last scroll height\n",
    "    new_height = driver.execute_script(\"return document.body.scrollHeight\")\n",
    "    if new_height == last_height:\n",
    "        break\n",
    "    last_height = new_height"
   ]
  },
  {
   "cell_type": "code",
   "execution_count": null,
   "metadata": {},
   "outputs": [],
   "source": [
    "https://teachablemachine.withgoogle.com/models/NpVRJJEQj/"
   ]
  },
  {
   "cell_type": "markdown",
   "metadata": {},
   "source": []
  }
 ],
 "metadata": {
  "kernelspec": {
   "display_name": "Python 3",
   "language": "python",
   "name": "python3"
  },
  "language_info": {
   "codemirror_mode": {
    "name": "ipython",
    "version": 3
   },
   "file_extension": ".py",
   "mimetype": "text/x-python",
   "name": "python",
   "nbconvert_exporter": "python",
   "pygments_lexer": "ipython3",
   "version": "3.8.5"
  }
 },
 "nbformat": 4,
 "nbformat_minor": 4
}
